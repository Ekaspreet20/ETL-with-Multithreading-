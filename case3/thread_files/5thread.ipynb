{
 "cells": [
  {
   "cell_type": "code",
   "execution_count": 1,
   "metadata": {},
   "outputs": [
    {
     "name": "stdout",
     "output_type": "stream",
     "text": [
      " All Thread ends\n",
      "Program Finished\n",
      "Runtime for copying of 50 lakh with 5 threads is 26.10660409927368\n"
     ]
    }
   ],
   "source": [
    "import csv\n",
    "import glob\n",
    "import pandas as pd \n",
    "import time\n",
    "import os, sys, time, threading, multiprocessing, random as r\n",
    "\n",
    "\n",
    "df = pd.read_csv(\"Idea5l.csv\")\n",
    "\n",
    "sal= df.SALARY\n",
    "len(df)\n",
    "\n",
    "def task1(df):\n",
    "    df.loc[:,['SNAME']]=df['SNAME'].str.upper()\n",
    "       \n",
    "def task2(df):\n",
    "    df.loc[:,['SALARY']] = df.SALARY + 0.02*sal\n",
    "\n",
    "def task3(df):\n",
    "    df.loc[:,['AGE']] += 1 \n",
    "    df.loc[:,['CONTACT']] = df['CONTACT'].astype(str).radd(\"+91 \")\n",
    "\n",
    "def task4(df):\n",
    "    df.loc[:,['GENDER']]=df['GENDER'].replace('Female','F')\n",
    "    df.loc[:,['GENDER']]=df['GENDER'].replace('Male','M')\n",
    "\n",
    "def task5(df):\n",
    "    df.loc[:,['ADDRESS']] = df['ADDRESS'].str.upper()\n",
    "\n",
    "   \n",
    "\n",
    "    \n",
    "\n",
    "if __name__==\"__main__\":\n",
    "\n",
    "    start = time.time()\n",
    "    \n",
    "    # creating thread\n",
    "    t1=threading.Thread(target=task1,args=(df,))\n",
    "    t2=threading.Thread(target=task2,args=(df,))\n",
    "    t3=threading.Thread(target=task3,args=(df,))\n",
    "    t4=threading.Thread(target=task4,args=(df,))\n",
    "    t5=threading.Thread(target=task5,args=(df,))\n",
    "\n",
    "    # starting thread\n",
    "    t1.start()\n",
    "    t2.start()\n",
    "    t3.start()\n",
    "    t4.start()\n",
    "    t5.start()\n",
    "\n",
    "    #wait until thread is completely executed\n",
    "    t1.join()\n",
    "    t2.join()\n",
    "    t3.join()\n",
    "    t4.join()\n",
    "    t5.join()\n",
    "\n",
    "    print(\" All Thread ends\")\n",
    "    print(\"Program Finished\")\n",
    "    df.to_csv(\"optimal\\V5t.csv\")\n",
    "    end = time.time()\n",
    "\n",
    "    print(f\"Runtime for copying of 50 lakh with 5 threads is {end - start}\")\n"
   ]
  }
 ],
 "metadata": {
  "kernelspec": {
   "display_name": "Python 3.10.2 64-bit",
   "language": "python",
   "name": "python3"
  },
  "language_info": {
   "codemirror_mode": {
    "name": "ipython",
    "version": 3
   },
   "file_extension": ".py",
   "mimetype": "text/x-python",
   "name": "python",
   "nbconvert_exporter": "python",
   "pygments_lexer": "ipython3",
   "version": "3.10.2"
  },
  "orig_nbformat": 4,
  "vscode": {
   "interpreter": {
    "hash": "7ec044e8ff643357d7a8bcf5df711256ba0d7dda7c0007fb25b823abc5f121fc"
   }
  }
 },
 "nbformat": 4,
 "nbformat_minor": 2
}
